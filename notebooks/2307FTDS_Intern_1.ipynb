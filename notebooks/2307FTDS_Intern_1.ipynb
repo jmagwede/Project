{
 "cells": [
  {
   "cell_type": "markdown",
   "metadata": {
    "id": "WWY7ZTq_B-oe"
   },
   "source": [
    "\n",
    "<div style=\"text-align:center\">\n",
    "\n",
    "<div style=\"background-image: url('background.jpg'); background-size: cover; padding: 50px; color: white;\">\n",
    "\n",
    "# Acoustic Loggers \n",
    "\n",
    "© Sand Technologies\n",
    "\n",
    "<img src=\"sand.JPEG\" alt=\"Example Image\" width=\"100\" height=\"100\">\n",
    "\n",
    "### Team 1\n",
    "\n",
    "</div>\n",
    "</div>\n"
   ]
  },
  {
   "cell_type": "markdown",
   "metadata": {
    "id": "1gDjM4ymB-om"
   },
   "source": [
    "### **Acoustic Loggers for Leak Detection**\n",
    "\n",
    "\n",
    "Water distribution networks play a crucial role in ensuring clean and safe drinking water is delivered to consumers. However, leaks in the pipes of these networks lead to significant loss of water, posing challenges to water utilities. Not only are these leaks wasteful, but they also result in large fines for water utilities. \n",
    "\n",
    "To mitigate wastage, acoustic loggers have been attached to water pipes to record the sound profile in each pipe at night. These recordings can then be used to determine whether there is a leak present. \n",
    "\n",
    "The goal of this project is to produce a model that can classify each of these recordings as either 'leak' or 'no leak', aiding in the early detection and prevention of water loss in distribution networks. \n",
    "\n",
    "<img src=\"water.JPG\" alt=\"Example Image\" width=\"1700\" height=\"400\">"
   ]
  },
  {
   "cell_type": "markdown",
   "metadata": {},
   "source": [
    "### **Problem Statement:**\n",
    "\n",
    "\n"
   ]
  },
  {
   "cell_type": "markdown",
   "metadata": {},
   "source": [
    "                                                                     "
   ]
  },
  {
   "cell_type": "markdown",
   "metadata": {
    "id": "JLPx1XRrB-ok"
   },
   "source": [
    "<a id=\"cont\"></a>\n",
    "\n",
    "## Table of Contents\n",
    "\n",
    "<a href=#one>1. Importing Libraries</a>\n",
    "\n",
    "<a href=#two>2. Loading the data</a>\n",
    "\n",
    "<a href=#four>4. Exploratory Data Analysis</a>\n",
    "\n",
    "<a href=#five>5. Data Cleaning & Preprocessing\n",
    "\n",
    "<a href=#six>6. Modelling</a>\n",
    "\n",
    "<a href=#seven>7. Model Evaluation</a>\n",
    "\n",
    "<a href=#ten>10. Conclusion</a>"
   ]
  },
  {
   "cell_type": "markdown",
   "metadata": {},
   "source": [
    "## <div style=\"text-align: center;\"><u/> **Let's Get Started!!!**.</u></div>"
   ]
  },
  {
   "cell_type": "markdown",
   "metadata": {
    "id": "zhy8Fx7KB-ol"
   },
   "source": [
    " <a id=\"two\"></a>\n",
    "## **1. Importing Libraries**\n",
    "<a href=#cont>Back to Table of Contents</a>\n",
    "\n",
    "---\n"
   ]
  },
  {
   "cell_type": "code",
   "execution_count": 3,
   "metadata": {
    "id": "jFxWX8POB-on"
   },
   "outputs": [
    {
     "name": "stdout",
     "output_type": "stream",
     "text": [
      "Requirement already satisfied: requests in c:\\users\\percy\\appdata\\local\\programs\\python\\python311\\lib\\site-packages (2.31.0)\n",
      "Requirement already satisfied: charset-normalizer<4,>=2 in c:\\users\\percy\\appdata\\local\\programs\\python\\python311\\lib\\site-packages (from requests) (3.3.2)\n",
      "Requirement already satisfied: idna<4,>=2.5 in c:\\users\\percy\\appdata\\local\\programs\\python\\python311\\lib\\site-packages (from requests) (3.6)\n",
      "Requirement already satisfied: urllib3<3,>=1.21.1 in c:\\users\\percy\\appdata\\local\\programs\\python\\python311\\lib\\site-packages (from requests) (2.1.0)\n",
      "Requirement already satisfied: certifi>=2017.4.17 in c:\\users\\percy\\appdata\\local\\programs\\python\\python311\\lib\\site-packages (from requests) (2023.11.17)\n"
     ]
    },
    {
     "name": "stderr",
     "output_type": "stream",
     "text": [
      "\n",
      "[notice] A new release of pip is available: 23.3.2 -> 24.0\n",
      "[notice] To update, run: python.exe -m pip install --upgrade pip\n"
     ]
    }
   ],
   "source": [
    "!pip install requests\n",
    "import requests\n",
    "import zipfile\n",
    "import os\n",
    "import pandas as pd\n",
    "import os\n",
    "import io"
   ]
  },
  {
   "cell_type": "markdown",
   "metadata": {},
   "source": [
    " <a id=\"three\"></a>\n",
    "## **2. Downloading Data**\n",
    "<a href=#cont>Back to Table of Contents</a>\n",
    "\n",
    "---\n"
   ]
  },
  {
   "cell_type": "markdown",
   "metadata": {},
   "source": [
    "#### **3.1 About the dataset**\n",
    "\n",
    "**<u/>Dataset Description</u>**\n",
    "\n",
    "**Data Overview**.\n",
    "\n",
    "The dataset comprises unstructured audio files spanning from 2017 to 2022, accompanied by corresponding metadata in an Excel spreadsheet. These audio files capture the sound of water flow within pipes, distinguishing between those with leaks and those without. Themas Waters has graciously provided us access to this data via an API..\n",
    "\n",
    "**Source**.\n",
    "\n",
    "The Excel spreadsheet contains a comprehensive set of columns or features, serving as metadata for each audio file as follows:\n",
    "\n",
    "\n",
    "- **datetime:** This column represents the date and time when the audio recording was captured.\n",
    "\n",
    "- **siteid:** The site ID is a unique identifier assigned to each location where the recording took place. It helps in tracking the geographical location associated with the audio data.\n",
    "\n",
    "- **recording_id:** The recording ID is a unique identifier assigned to each audio recording. It distinguishes one recording from another and aids in organizing and referencing the audio files.\n",
    "\n",
    "- **file_name:** The file name column contains the name of the audio file. It helps in identifying and accessing the corresponding audio recording file.\n",
    "\n",
    "- **postcodedistrict:** This column contains the postal code district associated with the location where the recording was made. It provides additional geographical context to the data.\n",
    "\n",
    "- **dmacode:** The DMA (Distribution Management Area) code is a unique identifier used in water management systems. It helps in categorizing and managing water distribution networks.\n",
    "\n",
    "- **leak found:** This column indicates whether a leak was detected in the corresponding audio recording. It serves as a binary flag, where \"leak found\" signifies the presence of a leak, and \"no leak found\" indicates the absence of a leak.\n",
    "\n",
    "- **noise:** The noise column represents the characteristics of the recorded sound, providing insights into the acoustic properties of the audio data.\n",
    "\n",
    "- **spread:** The spread column refer to the spread or distribution of sound frequencies within the audio recording. It could provide information about the variability or range of sound frequencies captured in the recording."
   ]
  },
  {
   "cell_type": "markdown",
   "metadata": {
    "id": "1cirAAl1B-or"
   },
   "source": [
    "#### **3.2 Downloading files from the API**\n",
    "\n",
    "- API Credentials"
   ]
  },
  {
   "cell_type": "code",
   "execution_count": null,
   "metadata": {},
   "outputs": [],
   "source": [
    "clientID = 'c70b57fc939d4c4eb3b32bc256fe451f'\n",
    "clientSecret = '515600b3BB9547A580760B29007c6E73'"
   ]
  },
  {
   "cell_type": "markdown",
   "metadata": {},
   "source": [
    "- modify this url as desired to access the different end points. e.g. "
   ]
  },
  {
   "cell_type": "code",
   "execution_count": null,
   "metadata": {},
   "outputs": [],
   "source": [
    "# Replace DischargeCurrentStatus at the end of the resource URL\n",
    "api_root = 'https://prod-tw-opendata-app.uk-e1.cloudhub.io'\n",
    "api_resource = '/data/AcousticLogger/v1/SoundFiles'\n",
    "url = api_root + api_resource\n",
    "params = 'data filters' # Parameter"
   ]
  },
  {
   "cell_type": "markdown",
   "metadata": {},
   "source": [
    "- Reqesting Data from the URL"
   ]
  },
  {
   "cell_type": "code",
   "execution_count": null,
   "metadata": {},
   "outputs": [],
   "source": [
    "r = requests.get(url, headers={'client_id':clientID, 'client_secret': clientSecret}, params=params)\n",
    "print(\"Requesting from \" + r.url)"
   ]
  },
  {
   "cell_type": "markdown",
   "metadata": {},
   "source": [
    "- Checking request status to validate the request."
   ]
  },
  {
   "cell_type": "code",
   "execution_count": null,
   "metadata": {},
   "outputs": [],
   "source": [
    "if r.status_code == 200:\n",
    "    response = r.json()\n",
    "    df = pd.json_normalize(response, 'items')\n",
    "else:\n",
    "    raise Exception(\"Request failed with status code {0}, and error message: {1}\".format(r.status_code, r.json()))"
   ]
  },
  {
   "cell_type": "markdown",
   "metadata": {},
   "source": [
    "- We have retrieved the data Lets take what we want from this data."
   ]
  },
  {
   "cell_type": "code",
   "execution_count": 4,
   "metadata": {
    "id": "tT83iJbcB-ot"
   },
   "outputs": [
    {
     "name": "stdout",
     "output_type": "stream",
     "text": [
      "Requesting from https://prod-tw-opendata-app.uk-e1.cloudhub.io/data/AcousticLogger/v1/SoundFiles?data%20filters\n",
      "            FileName                                            FileURL  \\\n",
      "0  acoustic_data.zip  https://saseuwdevdsplat.blob.core.windows.net/...   \n",
      "\n",
      "                        Date  \n",
      "0  2024-02-06T11:34:43+00:00  \n",
      "Zip file downloaded successfully.\n"
     ]
    }
   ],
   "source": [
    "print(df.tail())\n",
    "a = df.loc[0, 'FileURL']\n",
    "a\n",
    "response = requests.get(a)\n",
    "\n",
    "save_path = r'C:\\Users\\Percy\\OneDrive\\Desktop\\Acoustic\\0404'\n",
    "\n",
    "if response.status_code == 200:\n",
    "    with io.BytesIO(response.content) as zip_data:\n",
    "        \n",
    "        with zipfile.ZipFile(zip_data, 'r') as zip_ref:\n",
    "            zip_ref.extractall(os.path.abspath(r'C:\\Users\\Percy\\OneDrive\\Desktop\\Acoustic\\0404'))  # Specify the destination folder\n",
    "                \n",
    "    print(\"Zip file downloaded successfully.\")\n",
    "else:\n",
    "    print(f\"Failed to download zip file. Status code: {response.status_code}\")"
   ]
  },
  {
   "cell_type": "markdown",
   "metadata": {
    "id": "tx4iAdQRB-oq"
   },
   "source": [
    "<a id=\"four\"></a>\n",
    "## **4. Loading Data**\n",
    "<a class=\"anchor\" id=\"1.1\"></a>\n",
    "<a href=#cont>Back to Table of Contents</a>\n",
    "\n",
    "---\n",
    "    "
   ]
  },
  {
   "cell_type": "markdown",
   "metadata": {},
   "source": [
    "#### **4.1 Train Dataset Exploratory Data Analysis.**\n",
    "\n",
    "4.1.1 <u/>The first 3 rows of the Train dataset </u>"
   ]
  },
  {
   "cell_type": "code",
   "execution_count": null,
   "metadata": {},
   "outputs": [],
   "source": []
  },
  {
   "cell_type": "markdown",
   "metadata": {},
   "source": [
    "**Comment:** The train dataset has 4 features, let's see if they are no missing values withing each feature."
   ]
  },
  {
   "cell_type": "markdown",
   "metadata": {},
   "source": [
    "4.1.2 <u/>Missing values in Train dataset </u>"
   ]
  },
  {
   "cell_type": "code",
   "execution_count": null,
   "metadata": {},
   "outputs": [],
   "source": []
  },
  {
   "cell_type": "markdown",
   "metadata": {},
   "source": [
    "**Comment:** Now we can see that they are no missing values within each column, from this dataframe lets see the length of this dataframe, and observe the timber of distinct userid and movieid."
   ]
  },
  {
   "cell_type": "markdown",
   "metadata": {},
   "source": [
    "4.1.3 <u/>length of the dataframe and Number of distinct element on movieid and userid </u>"
   ]
  },
  {
   "cell_type": "code",
   "execution_count": null,
   "metadata": {},
   "outputs": [],
   "source": []
  },
  {
   "cell_type": "markdown",
   "metadata": {},
   "source": [
    "**Comment:** Now we can see that they are more users that movies, let's check the visual to see the frequency of user ratings for the movies. "
   ]
  },
  {
   "cell_type": "markdown",
   "metadata": {},
   "source": [
    "4.1.4 <u/>Frequeacy of rating categories </u>"
   ]
  },
  {
   "cell_type": "code",
   "execution_count": null,
   "metadata": {},
   "outputs": [],
   "source": []
  },
  {
   "cell_type": "markdown",
   "metadata": {},
   "source": [
    "**Comment:** From the above distribution we can see that the rating of 4 makes 26% of the total dataset, this tell us that people rate most of the movies with a value of 4. Now lest observe the statistical information of the given ratings."
   ]
  },
  {
   "cell_type": "markdown",
   "metadata": {},
   "source": [
    "4.1.5 <u/>Rating Statistical summary</u>"
   ]
  },
  {
   "cell_type": "code",
   "execution_count": null,
   "metadata": {},
   "outputs": [],
   "source": []
  },
  {
   "cell_type": "markdown",
   "metadata": {},
   "source": [
    "**Comment:** From the above we see that avarage values is 3.533, and the maximum rating is 5. Let's visualize this knowledge so that we can see the insights of the ratings feature."
   ]
  },
  {
   "cell_type": "markdown",
   "metadata": {},
   "source": [
    "4.1.6 <u/>Ratings Visuals</u>\n",
    "- Box and Whiskers plot."
   ]
  },
  {
   "cell_type": "code",
   "execution_count": null,
   "metadata": {},
   "outputs": [],
   "source": []
  },
  {
   "cell_type": "markdown",
   "metadata": {},
   "source": [
    "**Comment:** The skewness of the ratings is -0.7 which tells us that the distribution is left-skewed (tail to the left)."
   ]
  },
  {
   "cell_type": "markdown",
   "metadata": {},
   "source": [
    "#### **4.2 Movie Dataset Exploratory Data Analysis.**\n",
    "\n",
    "4.2.1 <u/>The first 3 rows of the Movies dataset </u>"
   ]
  },
  {
   "cell_type": "code",
   "execution_count": null,
   "metadata": {},
   "outputs": [],
   "source": []
  },
  {
   "cell_type": "markdown",
   "metadata": {},
   "source": [
    "**Comment:** From the movie dataset we can see that the un explored features are text data, lets see if they are missing values."
   ]
  },
  {
   "cell_type": "markdown",
   "metadata": {},
   "source": [
    "4.2.2 <u/>Nan values in movies dataset</u>"
   ]
  },
  {
   "cell_type": "code",
   "execution_count": null,
   "metadata": {},
   "outputs": [],
   "source": []
  },
  {
   "cell_type": "markdown",
   "metadata": {},
   "source": [
    "** Comment:** from the above results it seems like they are no missing values for the movies dataset. now lets see the frequency of movie genres."
   ]
  },
  {
   "cell_type": "markdown",
   "metadata": {},
   "source": [
    "4.2.3 <u/>Frequency of genres in movies dataset.</u>"
   ]
  },
  {
   "cell_type": "code",
   "execution_count": null,
   "metadata": {},
   "outputs": [],
   "source": []
  },
  {
   "cell_type": "markdown",
   "metadata": {},
   "source": [
    "**Comment:** we can see that drama, comedy, documentary, are the top 3 genres. Now lets visualize the frequent genre in a word cloud."
   ]
  },
  {
   "cell_type": "markdown",
   "metadata": {},
   "source": [
    "4.2.4 <u/>Frequent Genre.</u>\n",
    "- Word Cloud visualization."
   ]
  },
  {
   "cell_type": "code",
   "execution_count": null,
   "metadata": {},
   "outputs": [],
   "source": []
  },
  {
   "cell_type": "markdown",
   "metadata": {},
   "source": [
    "**Comment:** From the word cloud we can see that drama, Scifi, Romance and comedy are the most frequent genres of our dataset.Lets look at the distribution."
   ]
  },
  {
   "cell_type": "markdown",
   "metadata": {},
   "source": [
    "4.2.5 <u/>Genres Distributions</u>"
   ]
  },
  {
   "cell_type": "code",
   "execution_count": null,
   "metadata": {},
   "outputs": [],
   "source": []
  },
  {
   "cell_type": "markdown",
   "metadata": {},
   "source": [
    "**Comment:** The above distribution confirms that most of the movies in the dataset are drama and romance movies. "
   ]
  },
  {
   "cell_type": "markdown",
   "metadata": {},
   "source": [
    "#### **4.3 Tag Dataset Exploratory Data Analysis.**\n",
    "\n",
    "4.3.1 <u/>The first 3 rows of the Tag dataset </u>"
   ]
  },
  {
   "cell_type": "code",
   "execution_count": null,
   "metadata": {},
   "outputs": [],
   "source": []
  },
  {
   "cell_type": "markdown",
   "metadata": {},
   "source": [
    "**Comment:** We can see that the dataframe has two new features which is the tag and the timestamp, but for this project we will be interested in the tag which is what was provided by the user."
   ]
  },
  {
   "cell_type": "markdown",
   "metadata": {},
   "source": [
    "4.3.2 <u/> Lets check for missing values</u>"
   ]
  },
  {
   "cell_type": "code",
   "execution_count": null,
   "metadata": {},
   "outputs": [],
   "source": []
  },
  {
   "cell_type": "markdown",
   "metadata": {},
   "source": [
    "**Comment:** We can see that they are no missing values in this dataset. Lets see the cloud of how people classify the genres on the movies."
   ]
  },
  {
   "cell_type": "markdown",
   "metadata": {},
   "source": [
    "4.3.3 <u/>Tag genres of people</u>"
   ]
  },
  {
   "cell_type": "code",
   "execution_count": null,
   "metadata": {},
   "outputs": [],
   "source": []
  },
  {
   "cell_type": "markdown",
   "metadata": {},
   "source": [
    "**Comment:** From what viewers have tagged the movies they have watched, the wordcloud shows that they classify most movies as Comedy and Drama which is what the movies dataset shows. "
   ]
  },
  {
   "cell_type": "markdown",
   "metadata": {},
   "source": [
    "#### **4.4 Genome_scores Dataset Exploratory Data Analysis.**\n",
    "\n",
    "4.4.1 <u/>The first 3 rows of the Genome_scores dataset </u>"
   ]
  },
  {
   "cell_type": "code",
   "execution_count": null,
   "metadata": {},
   "outputs": [],
   "source": []
  },
  {
   "cell_type": "markdown",
   "metadata": {},
   "source": [
    "**Comment:** From the genome_scores dataset we cans see that the new feature is the relevance of the column. lets check missing values and perform somestatistical analysis on the relevence column."
   ]
  },
  {
   "cell_type": "markdown",
   "metadata": {},
   "source": [
    "4.4.2 <u/>Nan values in the geneme_scores dataset<u/>"
   ]
  },
  {
   "cell_type": "code",
   "execution_count": null,
   "metadata": {},
   "outputs": [],
   "source": []
  },
  {
   "cell_type": "markdown",
   "metadata": {},
   "source": [
    "**Comment:** It can be seen that they are no missing values within the genome score dataset."
   ]
  },
  {
   "cell_type": "markdown",
   "metadata": {},
   "source": [
    "4.4.3 <u/>Statistical Sescription<u/>"
   ]
  },
  {
   "cell_type": "code",
   "execution_count": null,
   "metadata": {},
   "outputs": [],
   "source": []
  },
  {
   "cell_type": "markdown",
   "metadata": {},
   "source": [
    "**Comment:** From the above we can see the mean, maximum and the minimum relevance, lets put this values on a plot to see them in a visual form."
   ]
  },
  {
   "cell_type": "markdown",
   "metadata": {},
   "source": [
    "4.4.4 <u/>Statistical summary Plot<u/> \n",
    "- Box and whisker plot."
   ]
  },
  {
   "cell_type": "code",
   "execution_count": null,
   "metadata": {},
   "outputs": [],
   "source": []
  },
  {
   "cell_type": "markdown",
   "metadata": {},
   "source": [
    "**Comment:** The skewness of the relevence is 2.6 which tells us that the distribution is right-skewed (tail to the right)."
   ]
  },
  {
   "cell_type": "markdown",
   "metadata": {
    "id": "R6mj2C0JB-ou"
   },
   "source": [
    "#### **4.5 Rating Dataset Exploratory Data Analysis.**\n",
    "\n",
    "4.5.1 <u/>The first 3 rows of the rating dataset </u>"
   ]
  },
  {
   "cell_type": "code",
   "execution_count": null,
   "metadata": {},
   "outputs": [],
   "source": []
  },
  {
   "cell_type": "markdown",
   "metadata": {},
   "source": [
    "**Comment:** Since we have already done some analysis on the userid, movieid and ratings features lets only check for missing values."
   ]
  },
  {
   "cell_type": "markdown",
   "metadata": {},
   "source": [
    "5.5.2 <u/>Nan valeus<u/>"
   ]
  },
  {
   "cell_type": "code",
   "execution_count": null,
   "metadata": {},
   "outputs": [],
   "source": []
  },
  {
   "cell_type": "markdown",
   "metadata": {},
   "source": [
    "**Comment:** As we can see they are no missing values that are present in the ratings data frame and all features has been explored, now we jump to the next dataframe."
   ]
  },
  {
   "cell_type": "markdown",
   "metadata": {},
   "source": [
    "#### **4.6 imdb Dataset Exploratory Data Analysis.**\n",
    "\n",
    "4.6.1 <u/>The first 3 rows of the imbd dataset </u>"
   ]
  },
  {
   "cell_type": "code",
   "execution_count": null,
   "metadata": {},
   "outputs": [],
   "source": []
  },
  {
   "cell_type": "markdown",
   "metadata": {},
   "source": [
    "**Comment:** In this dataset they are 5 new features which we havent explored. lets explore them and see their insights. \n",
    "\n",
    "4.6.2 <u/> Statistical Summary<u/>"
   ]
  },
  {
   "cell_type": "code",
   "execution_count": null,
   "metadata": {},
   "outputs": [],
   "source": []
  },
  {
   "cell_type": "markdown",
   "metadata": {
    "id": "zY25H28YB-pH"
   },
   "source": [
    "<a id=\"five\"></a>\n",
    "## **5. Data Cleaning & Preprocessing**\n",
    "<a class=\"anchor\" id=\"1.1\"></a>\n",
    "<a href=#cont>Back to Table of Contents</a>\n",
    "\n",
    "---\n"
   ]
  },
  {
   "cell_type": "markdown",
   "metadata": {},
   "source": [
    "#### **5.1 Duplicates within the dataset.**\n",
    "- We only explore the important dataset which is train, test, tags, imdb and movies."
   ]
  },
  {
   "cell_type": "code",
   "execution_count": null,
   "metadata": {},
   "outputs": [],
   "source": []
  },
  {
   "cell_type": "markdown",
   "metadata": {},
   "source": [
    "**Comment:** From the above results we can see that they no duplicated values within our dataset."
   ]
  },
  {
   "cell_type": "markdown",
   "metadata": {},
   "source": [
    "#### **6.2 Processing the data to remove characters.**\n",
    "- A function to remove specific character and replace is my an empty space. "
   ]
  },
  {
   "cell_type": "code",
   "execution_count": null,
   "metadata": {},
   "outputs": [],
   "source": []
  },
  {
   "cell_type": "markdown",
   "metadata": {},
   "source": [
    "**Comment:** This function will remove character '|' when applied to a dataset with a name movies and have a column called genres. "
   ]
  },
  {
   "cell_type": "markdown",
   "metadata": {
    "id": "vl-VOXD5B-ox"
   },
   "source": [
    "<a id=\"six\"></a>\n",
    "## **6. Modelling**\n",
    "<a class=\"anchor\" id=\"1.1\"></a>\n",
    "<a href=#cont>Back to Table of Contents</a>\n",
    "\n",
    "---\n"
   ]
  },
  {
   "cell_type": "code",
   "execution_count": null,
   "metadata": {},
   "outputs": [],
   "source": []
  },
  {
   "cell_type": "markdown",
   "metadata": {
    "id": "INazgQXrB-pd"
   },
   "source": [
    "## **Authors**\n",
    "\n",
    "| Name | Surname | Position |\n",
    "| :----------- | :------------: | ------------: |\n",
    "| Percy  | Mmutle       | None       |\n",
    "|  Lesego  | 88888888      | Project Maneger       |\n",
    "| Aphiwe | 888888      | None   |\n",
    "| Tonia | 88888 | None|\n",
    "|Ntsako| 888888 | None |\n",
    "| Tumi | 888888 | None |\n",
    "| Victoria | 888888 | Team Lead |\n",
    "| Ndivho | 888888 | None |"
   ]
  }
 ],
 "metadata": {
  "colab": {
   "provenance": []
  },
  "kernelspec": {
   "display_name": "Python 3 (ipykernel)",
   "language": "python",
   "name": "python3"
  },
  "language_info": {
   "codemirror_mode": {
    "name": "ipython",
    "version": 3
   },
   "file_extension": ".py",
   "mimetype": "text/x-python",
   "name": "python",
   "nbconvert_exporter": "python",
   "pygments_lexer": "ipython3",
   "version": "3.11.3"
  }
 },
 "nbformat": 4,
 "nbformat_minor": 1
}
