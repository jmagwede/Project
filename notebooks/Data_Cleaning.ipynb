{
 "cells": [
  {
   "cell_type": "code",
   "execution_count": 2,
   "metadata": {},
   "outputs": [],
   "source": [
    "import boto3\n",
    "import pandas as pd\n",
    "import librosa\n",
    "import io\n",
    "from io import BytesIO\n",
    "from IPython.display import Audio"
   ]
  },
  {
   "cell_type": "code",
   "execution_count": 3,
   "metadata": {},
   "outputs": [
    {
     "name": "stdout",
     "output_type": "stream",
     "text": [
      "Connected Loaded Successfully into the notebook\n"
     ]
    }
   ],
   "source": [
    "#Loading the data into the notebook\n",
    "s3 = boto3.client('s3')\n",
    "bucket_name = '2307-01-acoustic-loggers-for-leak-detection-a'\n",
    "object_key = 'Metadata_Audio_Connected/Connected_data.xlsx'\n",
    "\n",
    "response = s3.get_object(Bucket=bucket_name, Key=object_key)\n",
    "excel_data = response['Body'].read()\n",
    "\n",
    "df = pd.read_excel(BytesIO(excel_data))\n",
    "print('Connected Loaded Successfully into the notebook')"
   ]
  },
  {
   "cell_type": "code",
   "execution_count": 4,
   "metadata": {},
   "outputs": [
    {
     "data": {
      "text/html": [
       "<div>\n",
       "<style scoped>\n",
       "    .dataframe tbody tr th:only-of-type {\n",
       "        vertical-align: middle;\n",
       "    }\n",
       "\n",
       "    .dataframe tbody tr th {\n",
       "        vertical-align: top;\n",
       "    }\n",
       "\n",
       "    .dataframe thead th {\n",
       "        text-align: right;\n",
       "    }\n",
       "</style>\n",
       "<table border=\"1\" class=\"dataframe\">\n",
       "  <thead>\n",
       "    <tr style=\"text-align: right;\">\n",
       "      <th></th>\n",
       "      <th>datetime</th>\n",
       "      <th>siteid</th>\n",
       "      <th>recording_id</th>\n",
       "      <th>file</th>\n",
       "      <th>postcodedistrict</th>\n",
       "      <th>dmacode</th>\n",
       "      <th>leak_found</th>\n",
       "      <th>noise</th>\n",
       "      <th>spread</th>\n",
       "      <th>repaired_as</th>\n",
       "      <th>Audio_key</th>\n",
       "    </tr>\n",
       "  </thead>\n",
       "  <tbody>\n",
       "    <tr>\n",
       "      <th>0</th>\n",
       "      <td>2018-12-12 04:00:00</td>\n",
       "      <td>1668120</td>\n",
       "      <td>26577010</td>\n",
       "      <td>../recordings/2018/12/12/recordings_1668120_26...</td>\n",
       "      <td>NW10</td>\n",
       "      <td>ZSUHIL25</td>\n",
       "      <td>No</td>\n",
       "      <td>15.0</td>\n",
       "      <td>4.0</td>\n",
       "      <td>NaN</td>\n",
       "      <td>Unstructured audio files/2018/12/12/recordings...</td>\n",
       "    </tr>\n",
       "    <tr>\n",
       "      <th>1</th>\n",
       "      <td>2018-12-12 04:00:00</td>\n",
       "      <td>1742872</td>\n",
       "      <td>26592074</td>\n",
       "      <td>../recordings/2018/12/12/recordings_1742872_26...</td>\n",
       "      <td>E15</td>\n",
       "      <td>ZWOODF113</td>\n",
       "      <td>No</td>\n",
       "      <td>22.0</td>\n",
       "      <td>9.0</td>\n",
       "      <td>NaN</td>\n",
       "      <td>Unstructured audio files/2018/12/12/recordings...</td>\n",
       "    </tr>\n",
       "    <tr>\n",
       "      <th>2</th>\n",
       "      <td>2018-12-12 04:00:00</td>\n",
       "      <td>1616760</td>\n",
       "      <td>26593071</td>\n",
       "      <td>../recordings/2018/12/12/recordings_1616760_26...</td>\n",
       "      <td>HP12</td>\n",
       "      <td>ZWIDDN02</td>\n",
       "      <td>No</td>\n",
       "      <td>21.0</td>\n",
       "      <td>7.0</td>\n",
       "      <td>NaN</td>\n",
       "      <td>Unstructured audio files/2018/12/12/recordings...</td>\n",
       "    </tr>\n",
       "    <tr>\n",
       "      <th>3</th>\n",
       "      <td>2018-12-12 04:00:00</td>\n",
       "      <td>1630929</td>\n",
       "      <td>26593758</td>\n",
       "      <td>../recordings/2018/12/12/recordings_1630929_26...</td>\n",
       "      <td>SL1</td>\n",
       "      <td>ZSTKWD30</td>\n",
       "      <td>No</td>\n",
       "      <td>14.0</td>\n",
       "      <td>5.0</td>\n",
       "      <td>NaN</td>\n",
       "      <td>Unstructured audio files/2018/12/12/recordings...</td>\n",
       "    </tr>\n",
       "    <tr>\n",
       "      <th>4</th>\n",
       "      <td>2018-12-12 04:00:00</td>\n",
       "      <td>6896951</td>\n",
       "      <td>26596303</td>\n",
       "      <td>../recordings/2018/12/12/recordings_6896951_26...</td>\n",
       "      <td>SL7</td>\n",
       "      <td>ZMARLC01</td>\n",
       "      <td>No</td>\n",
       "      <td>10.0</td>\n",
       "      <td>3.0</td>\n",
       "      <td>NaN</td>\n",
       "      <td>Unstructured audio files/2018/12/12/recordings...</td>\n",
       "    </tr>\n",
       "  </tbody>\n",
       "</table>\n",
       "</div>"
      ],
      "text/plain": [
       "             datetime   siteid  recording_id  \\\n",
       "0 2018-12-12 04:00:00  1668120      26577010   \n",
       "1 2018-12-12 04:00:00  1742872      26592074   \n",
       "2 2018-12-12 04:00:00  1616760      26593071   \n",
       "3 2018-12-12 04:00:00  1630929      26593758   \n",
       "4 2018-12-12 04:00:00  6896951      26596303   \n",
       "\n",
       "                                                file postcodedistrict  \\\n",
       "0  ../recordings/2018/12/12/recordings_1668120_26...             NW10   \n",
       "1  ../recordings/2018/12/12/recordings_1742872_26...              E15   \n",
       "2  ../recordings/2018/12/12/recordings_1616760_26...             HP12   \n",
       "3  ../recordings/2018/12/12/recordings_1630929_26...              SL1   \n",
       "4  ../recordings/2018/12/12/recordings_6896951_26...              SL7   \n",
       "\n",
       "     dmacode leak_found  noise  spread repaired_as  \\\n",
       "0   ZSUHIL25         No   15.0     4.0         NaN   \n",
       "1  ZWOODF113         No   22.0     9.0         NaN   \n",
       "2   ZWIDDN02         No   21.0     7.0         NaN   \n",
       "3   ZSTKWD30         No   14.0     5.0         NaN   \n",
       "4   ZMARLC01         No   10.0     3.0         NaN   \n",
       "\n",
       "                                           Audio_key  \n",
       "0  Unstructured audio files/2018/12/12/recordings...  \n",
       "1  Unstructured audio files/2018/12/12/recordings...  \n",
       "2  Unstructured audio files/2018/12/12/recordings...  \n",
       "3  Unstructured audio files/2018/12/12/recordings...  \n",
       "4  Unstructured audio files/2018/12/12/recordings...  "
      ]
     },
     "execution_count": 4,
     "metadata": {},
     "output_type": "execute_result"
    }
   ],
   "source": [
    "df.head()"
   ]
  },
  {
   "cell_type": "code",
   "execution_count": 5,
   "metadata": {},
   "outputs": [],
   "source": [
    "def normalize_audio(audio_data):\n",
    "    normalized = librosa.util.normalize(audio_data)\n",
    "    return normalized"
   ]
  },
  {
   "cell_type": "code",
   "execution_count": 6,
   "metadata": {},
   "outputs": [],
   "source": [
    "import concurrent.futures"
   ]
  },
  {
   "cell_type": "code",
   "execution_count": 47,
   "metadata": {},
   "outputs": [],
   "source": [
    "def process_audio_r(i):\n",
    "    try:\n",
    "        bucket_name = '2307-01-acoustic-loggers-for-leak-detection-a'\n",
    "        audio_file_key = df.loc[i, 'Audio_key']\n",
    "\n",
    "        # Download audio file from S3\n",
    "        response = s3.get_object(Bucket=bucket_name, Key=audio_file_key)\n",
    "        audio_data = response['Body'].read()\n",
    "\n",
    "        # Load audio data and sampling rate\n",
    "        signal, sr = librosa.load(io.BytesIO(audio_data))\n",
    "\n",
    "        # Normalize audio data\n",
    "        normalized_audio = librosa.util.normalize(signal)\n",
    "\n",
    "        return normalized_audio\n",
    "\n",
    "    except Exception as e:\n",
    "        print(f\"Error processing audio {i}: {e}\")\n",
    "        return None\n",
    "\n",
    "if __name__ == \"__main__\":\n",
    "    # Initialize S3 client\n",
    "    s3 = boto3.client('s3')\n",
    "    \n",
    "    # Initialize lists to store DataFrames\n",
    "    df_list_r = []\n",
    "\n",
    "    with concurrent.futures.ThreadPoolExecutor() as executor:\n",
    "        futures = [executor.submit(process_audio_r, i) for i in range(100)]\n",
    "        for future in concurrent.futures.as_completed(futures):\n",
    "            result = future.result()\n",
    "            df_list_r.append(result)\n",
    "\n",
    "    # Concatenate DataFrames into a single DataFrame\n",
    "     \n",
    "    df_Normalized = pd.DataFrame({'Normalized': df_list_r})"
   ]
  },
  {
   "cell_type": "code",
   "execution_count": 48,
   "metadata": {},
   "outputs": [],
   "source": [
    "audio_data = df_Normalized.loc[0, 'Normalized']"
   ]
  },
  {
   "cell_type": "code",
   "execution_count": 18,
   "metadata": {},
   "outputs": [],
   "source": [
    "from scipy.io import wavfile"
   ]
  },
  {
   "cell_type": "code",
   "execution_count": 40,
   "metadata": {},
   "outputs": [],
   "source": [
    "bucket_name = '2307-01-acoustic-loggers-for-leak-detection-a'\n",
    "audio_file_key= df.loc[0, 'Audio_key']  # Path to the audio file in the S3 bucket\n",
    "\n",
    "# Download the audio file from S3\n",
    "response = s3.get_object(Bucket=bucket_name, Key=audio_file_key)\n",
    "audio_data_Leak = response['Body'].read()\n",
    "\n",
    "# Display the audio file using the IPython Audio widget\n",
    "audio = Audio(audio_data_Leak)"
   ]
  },
  {
   "cell_type": "code",
   "execution_count": 29,
   "metadata": {},
   "outputs": [],
   "source": [
    "# Initialize the S3 client\n",
    "s3 = boto3.client('s3')\n",
    "\n",
    "# Define your S3 bucket name and audio file key\n",
    "bucket_name = '2307-01-acoustic-loggers-for-leak-detection-a'\n",
    "\n",
    "# Create a file-like object to store the audio data\n",
    "audio_data = io.BytesIO()\n",
    "\n",
    "# Stream the audio file from S3 into the file-like object\n",
    "s3.download_fileobj(bucket_name, audio_file_key, audio_data)\n",
    "\n",
    "# Reset the file-like object's position to the beginning\n",
    "audio_data.seek(0)\n",
    "\n",
    "# Load the audio data using Librosa\n",
    "y, sr = librosa.load(audio_data)"
   ]
  },
  {
   "cell_type": "code",
   "execution_count": 36,
   "metadata": {},
   "outputs": [
    {
     "data": {
      "text/plain": [
       "22050"
      ]
     },
     "execution_count": 36,
     "metadata": {},
     "output_type": "execute_result"
    }
   ],
   "source": [
    "sr"
   ]
  },
  {
   "cell_type": "code",
   "execution_count": 31,
   "metadata": {},
   "outputs": [],
   "source": [
    "sampling_rate = 22050"
   ]
  },
  {
   "cell_type": "code",
   "execution_count": 49,
   "metadata": {},
   "outputs": [
    {
     "ename": "TypeError",
     "evalue": "write() missing 1 required positional argument: 'data'",
     "output_type": "error",
     "traceback": [
      "\u001b[1;31m---------------------------------------------------------------------------\u001b[0m",
      "\u001b[1;31mTypeError\u001b[0m                                 Traceback (most recent call last)",
      "Cell \u001b[1;32mIn[49], line 1\u001b[0m\n\u001b[1;32m----> 1\u001b[0m \u001b[43mwavfile\u001b[49m\u001b[38;5;241;43m.\u001b[39;49m\u001b[43mwrite\u001b[49m\u001b[43m(\u001b[49m\u001b[38;5;124;43m'\u001b[39;49m\u001b[38;5;124;43mrestored_audio.wav\u001b[39;49m\u001b[38;5;124;43m'\u001b[39;49m\u001b[43m,\u001b[49m\u001b[43m \u001b[49m\u001b[43maudio_data\u001b[49m\u001b[43m)\u001b[49m\n",
      "\u001b[1;31mTypeError\u001b[0m: write() missing 1 required positional argument: 'data'"
     ]
    }
   ],
   "source": [
    "wavfile.write('restored_audio.wav', audio_data)"
   ]
  },
  {
   "cell_type": "code",
   "execution_count": 50,
   "metadata": {},
   "outputs": [
    {
     "ename": "AttributeError",
     "evalue": "No librosa attribute output",
     "output_type": "error",
     "traceback": [
      "\u001b[1;31m---------------------------------------------------------------------------\u001b[0m",
      "\u001b[1;31mAttributeError\u001b[0m                            Traceback (most recent call last)",
      "Cell \u001b[1;32mIn[50], line 1\u001b[0m\n\u001b[1;32m----> 1\u001b[0m \u001b[43mlibrosa\u001b[49m\u001b[38;5;241;43m.\u001b[39;49m\u001b[43moutput\u001b[49m\u001b[38;5;241m.\u001b[39mwrite_wav(audio_data, sr\u001b[38;5;241m=\u001b[39msampling_rate, norm\u001b[38;5;241m=\u001b[39m\u001b[38;5;28;01mTrue\u001b[39;00m)\n",
      "File \u001b[1;32mc:\\Users\\Percy\\AppData\\Local\\Programs\\Python\\Python311\\Lib\\site-packages\\lazy_loader\\__init__.py:94\u001b[0m, in \u001b[0;36mattach.<locals>.__getattr__\u001b[1;34m(name)\u001b[0m\n\u001b[0;32m     92\u001b[0m     \u001b[38;5;28;01mreturn\u001b[39;00m attr\n\u001b[0;32m     93\u001b[0m \u001b[38;5;28;01melse\u001b[39;00m:\n\u001b[1;32m---> 94\u001b[0m     \u001b[38;5;28;01mraise\u001b[39;00m \u001b[38;5;167;01mAttributeError\u001b[39;00m(\u001b[38;5;124mf\u001b[39m\u001b[38;5;124m\"\u001b[39m\u001b[38;5;124mNo \u001b[39m\u001b[38;5;132;01m{\u001b[39;00mpackage_name\u001b[38;5;132;01m}\u001b[39;00m\u001b[38;5;124m attribute \u001b[39m\u001b[38;5;132;01m{\u001b[39;00mname\u001b[38;5;132;01m}\u001b[39;00m\u001b[38;5;124m\"\u001b[39m)\n",
      "\u001b[1;31mAttributeError\u001b[0m: No librosa attribute output"
     ]
    }
   ],
   "source": [
    "librosa.output.write_wav(audio_data, sr=sampling_rate, norm=True)"
   ]
  },
  {
   "cell_type": "code",
   "execution_count": 52,
   "metadata": {},
   "outputs": [
    {
     "name": "stdout",
     "output_type": "stream",
     "text": [
      "Collecting noisereduce\n",
      "  Downloading noisereduce-3.0.2-py3-none-any.whl.metadata (14 kB)\n",
      "Requirement already satisfied: scipy in c:\\users\\percy\\appdata\\local\\programs\\python\\python311\\lib\\site-packages (from noisereduce) (1.12.0)\n",
      "Requirement already satisfied: matplotlib in c:\\users\\percy\\appdata\\local\\programs\\python\\python311\\lib\\site-packages (from noisereduce) (3.8.2)\n",
      "Requirement already satisfied: librosa in c:\\users\\percy\\appdata\\local\\programs\\python\\python311\\lib\\site-packages (from noisereduce) (0.10.1)\n",
      "Requirement already satisfied: numpy in c:\\users\\percy\\appdata\\local\\programs\\python\\python311\\lib\\site-packages (from noisereduce) (1.26.3)\n",
      "Requirement already satisfied: tqdm in c:\\users\\percy\\appdata\\local\\programs\\python\\python311\\lib\\site-packages (from noisereduce) (4.66.1)\n",
      "Requirement already satisfied: audioread>=2.1.9 in c:\\users\\percy\\appdata\\local\\programs\\python\\python311\\lib\\site-packages (from librosa->noisereduce) (3.0.1)\n",
      "Requirement already satisfied: scikit-learn>=0.20.0 in c:\\users\\percy\\appdata\\local\\programs\\python\\python311\\lib\\site-packages (from librosa->noisereduce) (1.4.0)\n",
      "Requirement already satisfied: joblib>=0.14 in c:\\users\\percy\\appdata\\local\\programs\\python\\python311\\lib\\site-packages (from librosa->noisereduce) (1.3.2)\n",
      "Requirement already satisfied: decorator>=4.3.0 in c:\\users\\percy\\appdata\\roaming\\python\\python311\\site-packages (from librosa->noisereduce) (5.1.1)\n",
      "Requirement already satisfied: numba>=0.51.0 in c:\\users\\percy\\appdata\\local\\programs\\python\\python311\\lib\\site-packages (from librosa->noisereduce) (0.59.1)\n",
      "Requirement already satisfied: soundfile>=0.12.1 in c:\\users\\percy\\appdata\\local\\programs\\python\\python311\\lib\\site-packages (from librosa->noisereduce) (0.12.1)\n",
      "Requirement already satisfied: pooch>=1.0 in c:\\users\\percy\\appdata\\local\\programs\\python\\python311\\lib\\site-packages (from librosa->noisereduce) (1.8.1)\n",
      "Requirement already satisfied: soxr>=0.3.2 in c:\\users\\percy\\appdata\\local\\programs\\python\\python311\\lib\\site-packages (from librosa->noisereduce) (0.3.7)\n",
      "Requirement already satisfied: typing-extensions>=4.1.1 in c:\\users\\percy\\appdata\\local\\programs\\python\\python311\\lib\\site-packages (from librosa->noisereduce) (4.9.0)\n",
      "Requirement already satisfied: lazy-loader>=0.1 in c:\\users\\percy\\appdata\\local\\programs\\python\\python311\\lib\\site-packages (from librosa->noisereduce) (0.4)\n",
      "Requirement already satisfied: msgpack>=1.0 in c:\\users\\percy\\appdata\\local\\programs\\python\\python311\\lib\\site-packages (from librosa->noisereduce) (1.0.8)\n",
      "Requirement already satisfied: contourpy>=1.0.1 in c:\\users\\percy\\appdata\\local\\programs\\python\\python311\\lib\\site-packages (from matplotlib->noisereduce) (1.2.0)\n",
      "Requirement already satisfied: cycler>=0.10 in c:\\users\\percy\\appdata\\local\\programs\\python\\python311\\lib\\site-packages (from matplotlib->noisereduce) (0.12.1)\n",
      "Requirement already satisfied: fonttools>=4.22.0 in c:\\users\\percy\\appdata\\local\\programs\\python\\python311\\lib\\site-packages (from matplotlib->noisereduce) (4.48.1)\n",
      "Requirement already satisfied: kiwisolver>=1.3.1 in c:\\users\\percy\\appdata\\local\\programs\\python\\python311\\lib\\site-packages (from matplotlib->noisereduce) (1.4.5)\n",
      "Requirement already satisfied: packaging>=20.0 in c:\\users\\percy\\appdata\\local\\programs\\python\\python311\\lib\\site-packages (from matplotlib->noisereduce) (23.2)\n",
      "Requirement already satisfied: pillow>=8 in c:\\users\\percy\\appdata\\local\\programs\\python\\python311\\lib\\site-packages (from matplotlib->noisereduce) (10.2.0)\n",
      "Requirement already satisfied: pyparsing>=2.3.1 in c:\\users\\percy\\appdata\\local\\programs\\python\\python311\\lib\\site-packages (from matplotlib->noisereduce) (3.1.1)\n",
      "Requirement already satisfied: python-dateutil>=2.7 in c:\\users\\percy\\appdata\\local\\programs\\python\\python311\\lib\\site-packages (from matplotlib->noisereduce) (2.8.2)\n",
      "Requirement already satisfied: colorama in c:\\users\\percy\\appdata\\local\\programs\\python\\python311\\lib\\site-packages (from tqdm->noisereduce) (0.4.6)\n",
      "Requirement already satisfied: llvmlite<0.43,>=0.42.0dev0 in c:\\users\\percy\\appdata\\local\\programs\\python\\python311\\lib\\site-packages (from numba>=0.51.0->librosa->noisereduce) (0.42.0)\n",
      "Requirement already satisfied: platformdirs>=2.5.0 in c:\\users\\percy\\appdata\\roaming\\python\\python311\\site-packages (from pooch>=1.0->librosa->noisereduce) (4.2.0)\n",
      "Requirement already satisfied: requests>=2.19.0 in c:\\users\\percy\\appdata\\local\\programs\\python\\python311\\lib\\site-packages (from pooch>=1.0->librosa->noisereduce) (2.31.0)\n",
      "Requirement already satisfied: six>=1.5 in c:\\users\\percy\\appdata\\local\\programs\\python\\python311\\lib\\site-packages (from python-dateutil>=2.7->matplotlib->noisereduce) (1.16.0)\n",
      "Requirement already satisfied: threadpoolctl>=2.0.0 in c:\\users\\percy\\appdata\\local\\programs\\python\\python311\\lib\\site-packages (from scikit-learn>=0.20.0->librosa->noisereduce) (3.2.0)\n",
      "Requirement already satisfied: cffi>=1.0 in c:\\users\\percy\\appdata\\local\\programs\\python\\python311\\lib\\site-packages (from soundfile>=0.12.1->librosa->noisereduce) (1.16.0)\n",
      "Requirement already satisfied: pycparser in c:\\users\\percy\\appdata\\local\\programs\\python\\python311\\lib\\site-packages (from cffi>=1.0->soundfile>=0.12.1->librosa->noisereduce) (2.21)\n",
      "Requirement already satisfied: charset-normalizer<4,>=2 in c:\\users\\percy\\appdata\\local\\programs\\python\\python311\\lib\\site-packages (from requests>=2.19.0->pooch>=1.0->librosa->noisereduce) (3.3.2)\n",
      "Requirement already satisfied: idna<4,>=2.5 in c:\\users\\percy\\appdata\\local\\programs\\python\\python311\\lib\\site-packages (from requests>=2.19.0->pooch>=1.0->librosa->noisereduce) (3.6)\n",
      "Requirement already satisfied: urllib3<3,>=1.21.1 in c:\\users\\percy\\appdata\\local\\programs\\python\\python311\\lib\\site-packages (from requests>=2.19.0->pooch>=1.0->librosa->noisereduce) (2.1.0)\n",
      "Requirement already satisfied: certifi>=2017.4.17 in c:\\users\\percy\\appdata\\local\\programs\\python\\python311\\lib\\site-packages (from requests>=2.19.0->pooch>=1.0->librosa->noisereduce) (2023.11.17)\n",
      "Downloading noisereduce-3.0.2-py3-none-any.whl (22 kB)\n",
      "Installing collected packages: noisereduce\n",
      "Successfully installed noisereduce-3.0.2\n"
     ]
    },
    {
     "name": "stderr",
     "output_type": "stream",
     "text": [
      "\n",
      "[notice] A new release of pip is available: 23.3.2 -> 24.0\n",
      "[notice] To update, run: python.exe -m pip install --upgrade pip\n"
     ]
    },
    {
     "ename": "TypeError",
     "evalue": "Invalid file: array([0.5432981 , 0.62693447, 0.65527993, ..., 0.2732673 , 0.17232941,\n       0.08091287], dtype=float32)",
     "output_type": "error",
     "traceback": [
      "\u001b[1;31m---------------------------------------------------------------------------\u001b[0m",
      "\u001b[1;31mTypeError\u001b[0m                                 Traceback (most recent call last)",
      "Cell \u001b[1;32mIn[52], line 7\u001b[0m\n\u001b[0;32m      5\u001b[0m \u001b[38;5;66;03m# Load audio file\u001b[39;00m\n\u001b[0;32m      6\u001b[0m audio_file \u001b[38;5;241m=\u001b[39m \u001b[38;5;124m'\u001b[39m\u001b[38;5;124minput_audio.wav\u001b[39m\u001b[38;5;124m'\u001b[39m\n\u001b[1;32m----> 7\u001b[0m data, sr \u001b[38;5;241m=\u001b[39m \u001b[43msf\u001b[49m\u001b[38;5;241;43m.\u001b[39;49m\u001b[43mread\u001b[49m\u001b[43m(\u001b[49m\u001b[43maudio_data\u001b[49m\u001b[43m)\u001b[49m\n\u001b[0;32m      9\u001b[0m \u001b[38;5;66;03m# Reduce noise\u001b[39;00m\n\u001b[0;32m     10\u001b[0m reduced_noise \u001b[38;5;241m=\u001b[39m nr\u001b[38;5;241m.\u001b[39mreduce_noise(audio_clip\u001b[38;5;241m=\u001b[39mdata, noise_clip\u001b[38;5;241m=\u001b[39mdata[:sr\u001b[38;5;241m*\u001b[39m\u001b[38;5;241m5\u001b[39m], verbose\u001b[38;5;241m=\u001b[39m\u001b[38;5;28;01mFalse\u001b[39;00m)\n",
      "File \u001b[1;32mc:\\Users\\Percy\\AppData\\Local\\Programs\\Python\\Python311\\Lib\\site-packages\\soundfile.py:285\u001b[0m, in \u001b[0;36mread\u001b[1;34m(file, frames, start, stop, dtype, always_2d, fill_value, out, samplerate, channels, format, subtype, endian, closefd)\u001b[0m\n\u001b[0;32m    199\u001b[0m \u001b[38;5;28;01mdef\u001b[39;00m \u001b[38;5;21mread\u001b[39m(file, frames\u001b[38;5;241m=\u001b[39m\u001b[38;5;241m-\u001b[39m\u001b[38;5;241m1\u001b[39m, start\u001b[38;5;241m=\u001b[39m\u001b[38;5;241m0\u001b[39m, stop\u001b[38;5;241m=\u001b[39m\u001b[38;5;28;01mNone\u001b[39;00m, dtype\u001b[38;5;241m=\u001b[39m\u001b[38;5;124m'\u001b[39m\u001b[38;5;124mfloat64\u001b[39m\u001b[38;5;124m'\u001b[39m, always_2d\u001b[38;5;241m=\u001b[39m\u001b[38;5;28;01mFalse\u001b[39;00m,\n\u001b[0;32m    200\u001b[0m          fill_value\u001b[38;5;241m=\u001b[39m\u001b[38;5;28;01mNone\u001b[39;00m, out\u001b[38;5;241m=\u001b[39m\u001b[38;5;28;01mNone\u001b[39;00m, samplerate\u001b[38;5;241m=\u001b[39m\u001b[38;5;28;01mNone\u001b[39;00m, channels\u001b[38;5;241m=\u001b[39m\u001b[38;5;28;01mNone\u001b[39;00m,\n\u001b[0;32m    201\u001b[0m          \u001b[38;5;28mformat\u001b[39m\u001b[38;5;241m=\u001b[39m\u001b[38;5;28;01mNone\u001b[39;00m, subtype\u001b[38;5;241m=\u001b[39m\u001b[38;5;28;01mNone\u001b[39;00m, endian\u001b[38;5;241m=\u001b[39m\u001b[38;5;28;01mNone\u001b[39;00m, closefd\u001b[38;5;241m=\u001b[39m\u001b[38;5;28;01mTrue\u001b[39;00m):\n\u001b[0;32m    202\u001b[0m \u001b[38;5;250m    \u001b[39m\u001b[38;5;124;03m\"\"\"Provide audio data from a sound file as NumPy array.\u001b[39;00m\n\u001b[0;32m    203\u001b[0m \n\u001b[0;32m    204\u001b[0m \u001b[38;5;124;03m    By default, the whole file is read from the beginning, but the\u001b[39;00m\n\u001b[1;32m   (...)\u001b[0m\n\u001b[0;32m    283\u001b[0m \n\u001b[0;32m    284\u001b[0m \u001b[38;5;124;03m    \"\"\"\u001b[39;00m\n\u001b[1;32m--> 285\u001b[0m     \u001b[38;5;28;01mwith\u001b[39;00m \u001b[43mSoundFile\u001b[49m\u001b[43m(\u001b[49m\u001b[43mfile\u001b[49m\u001b[43m,\u001b[49m\u001b[43m \u001b[49m\u001b[38;5;124;43m'\u001b[39;49m\u001b[38;5;124;43mr\u001b[39;49m\u001b[38;5;124;43m'\u001b[39;49m\u001b[43m,\u001b[49m\u001b[43m \u001b[49m\u001b[43msamplerate\u001b[49m\u001b[43m,\u001b[49m\u001b[43m \u001b[49m\u001b[43mchannels\u001b[49m\u001b[43m,\u001b[49m\n\u001b[0;32m    286\u001b[0m \u001b[43m                   \u001b[49m\u001b[43msubtype\u001b[49m\u001b[43m,\u001b[49m\u001b[43m \u001b[49m\u001b[43mendian\u001b[49m\u001b[43m,\u001b[49m\u001b[43m \u001b[49m\u001b[38;5;28;43mformat\u001b[39;49m\u001b[43m,\u001b[49m\u001b[43m \u001b[49m\u001b[43mclosefd\u001b[49m\u001b[43m)\u001b[49m \u001b[38;5;28;01mas\u001b[39;00m f:\n\u001b[0;32m    287\u001b[0m         frames \u001b[38;5;241m=\u001b[39m f\u001b[38;5;241m.\u001b[39m_prepare_read(start, stop, frames)\n\u001b[0;32m    288\u001b[0m         data \u001b[38;5;241m=\u001b[39m f\u001b[38;5;241m.\u001b[39mread(frames, dtype, always_2d, fill_value, out)\n",
      "File \u001b[1;32mc:\\Users\\Percy\\AppData\\Local\\Programs\\Python\\Python311\\Lib\\site-packages\\soundfile.py:658\u001b[0m, in \u001b[0;36mSoundFile.__init__\u001b[1;34m(self, file, mode, samplerate, channels, subtype, endian, format, closefd)\u001b[0m\n\u001b[0;32m    655\u001b[0m \u001b[38;5;28mself\u001b[39m\u001b[38;5;241m.\u001b[39m_mode \u001b[38;5;241m=\u001b[39m mode\n\u001b[0;32m    656\u001b[0m \u001b[38;5;28mself\u001b[39m\u001b[38;5;241m.\u001b[39m_info \u001b[38;5;241m=\u001b[39m _create_info_struct(file, mode, samplerate, channels,\n\u001b[0;32m    657\u001b[0m                                  \u001b[38;5;28mformat\u001b[39m, subtype, endian)\n\u001b[1;32m--> 658\u001b[0m \u001b[38;5;28mself\u001b[39m\u001b[38;5;241m.\u001b[39m_file \u001b[38;5;241m=\u001b[39m \u001b[38;5;28;43mself\u001b[39;49m\u001b[38;5;241;43m.\u001b[39;49m\u001b[43m_open\u001b[49m\u001b[43m(\u001b[49m\u001b[43mfile\u001b[49m\u001b[43m,\u001b[49m\u001b[43m \u001b[49m\u001b[43mmode_int\u001b[49m\u001b[43m,\u001b[49m\u001b[43m \u001b[49m\u001b[43mclosefd\u001b[49m\u001b[43m)\u001b[49m\n\u001b[0;32m    659\u001b[0m \u001b[38;5;28;01mif\u001b[39;00m \u001b[38;5;28mset\u001b[39m(mode)\u001b[38;5;241m.\u001b[39missuperset(\u001b[38;5;124m'\u001b[39m\u001b[38;5;124mr+\u001b[39m\u001b[38;5;124m'\u001b[39m) \u001b[38;5;129;01mand\u001b[39;00m \u001b[38;5;28mself\u001b[39m\u001b[38;5;241m.\u001b[39mseekable():\n\u001b[0;32m    660\u001b[0m     \u001b[38;5;66;03m# Move write position to 0 (like in Python file objects)\u001b[39;00m\n\u001b[0;32m    661\u001b[0m     \u001b[38;5;28mself\u001b[39m\u001b[38;5;241m.\u001b[39mseek(\u001b[38;5;241m0\u001b[39m)\n",
      "File \u001b[1;32mc:\\Users\\Percy\\AppData\\Local\\Programs\\Python\\Python311\\Lib\\site-packages\\soundfile.py:1212\u001b[0m, in \u001b[0;36mSoundFile._open\u001b[1;34m(self, file, mode_int, closefd)\u001b[0m\n\u001b[0;32m   1209\u001b[0m     file_ptr \u001b[38;5;241m=\u001b[39m _snd\u001b[38;5;241m.\u001b[39msf_open_virtual(\u001b[38;5;28mself\u001b[39m\u001b[38;5;241m.\u001b[39m_init_virtual_io(file),\n\u001b[0;32m   1210\u001b[0m                                     mode_int, \u001b[38;5;28mself\u001b[39m\u001b[38;5;241m.\u001b[39m_info, _ffi\u001b[38;5;241m.\u001b[39mNULL)\n\u001b[0;32m   1211\u001b[0m \u001b[38;5;28;01melse\u001b[39;00m:\n\u001b[1;32m-> 1212\u001b[0m     \u001b[38;5;28;01mraise\u001b[39;00m \u001b[38;5;167;01mTypeError\u001b[39;00m(\u001b[38;5;124m\"\u001b[39m\u001b[38;5;124mInvalid file: \u001b[39m\u001b[38;5;132;01m{0!r}\u001b[39;00m\u001b[38;5;124m\"\u001b[39m\u001b[38;5;241m.\u001b[39mformat(\u001b[38;5;28mself\u001b[39m\u001b[38;5;241m.\u001b[39mname))\n\u001b[0;32m   1213\u001b[0m \u001b[38;5;28;01mif\u001b[39;00m file_ptr \u001b[38;5;241m==\u001b[39m _ffi\u001b[38;5;241m.\u001b[39mNULL:\n\u001b[0;32m   1214\u001b[0m     \u001b[38;5;66;03m# get the actual error code\u001b[39;00m\n\u001b[0;32m   1215\u001b[0m     err \u001b[38;5;241m=\u001b[39m _snd\u001b[38;5;241m.\u001b[39msf_error(file_ptr)\n",
      "\u001b[1;31mTypeError\u001b[0m: Invalid file: array([0.5432981 , 0.62693447, 0.65527993, ..., 0.2732673 , 0.17232941,\n       0.08091287], dtype=float32)"
     ]
    }
   ],
   "source": [
    "!pip install noisereduce\n",
    "import noisereduce as nr\n",
    "import soundfile as sf\n",
    "\n",
    "# Load audio file\n",
    "audio_file = 'input_audio.wav'\n",
    "data, sr = sf.read(audio_data)\n",
    "\n",
    "# Reduce noise\n",
    "reduced_noise = nr.reduce_noise(audio_clip=data, noise_clip=data[:sr*5], verbose=False)\n",
    "\n",
    "# Save processed audio\n",
    "sf.write('output_audio.wav', reduced_noise, sr)"
   ]
  }
 ],
 "metadata": {
  "kernelspec": {
   "display_name": "Python 3",
   "language": "python",
   "name": "python3"
  },
  "language_info": {
   "codemirror_mode": {
    "name": "ipython",
    "version": 3
   },
   "file_extension": ".py",
   "mimetype": "text/x-python",
   "name": "python",
   "nbconvert_exporter": "python",
   "pygments_lexer": "ipython3",
   "version": "3.11.3"
  }
 },
 "nbformat": 4,
 "nbformat_minor": 2
}
